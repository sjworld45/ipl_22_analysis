{
 "cells": [
  {
   "cell_type": "code",
   "execution_count": 1,
   "metadata": {},
   "outputs": [],
   "source": [
    "import json\n",
    "import os\n",
    "import matplotlib.pyplot as plt\n",
    "json_files_path = r'E:\\SJ\\cricket\\analysis\\IPL\\json'"
   ]
  },
  {
   "cell_type": "code",
   "execution_count": 2,
   "metadata": {},
   "outputs": [],
   "source": [
    "def process_season(season):\n",
    "    if '/' in str(season):\n",
    "        t = {'2020/21': 2020, '2007/08': 2008, '2009/10': 2010}\n",
    "        return t[season]\n",
    "    else:\n",
    "        return int(season)\n"
   ]
  },
  {
   "cell_type": "code",
   "execution_count": null,
   "metadata": {},
   "outputs": [],
   "source": [
    "# Structure of IPL json file\n",
    "'''\n",
    "FILE:\n",
    "meta, info, innings\n",
    "    meta:\n",
    "    ['data_version', 'created', 'revision']\n",
    "\n",
    "    info:\n",
    "    ['balls_per_over', 'city', 'dates', 'event',\n",
    "     'gender', 'match_type', 'officials', 'outcome',\n",
    "     'overs', 'player_of_match',\n",
    "     'players', 'registry', 'season', 'team_type', 'teams', 'toss', 'venue']\n",
    "    \n",
    "    innings: A list containing both the inngings\n",
    "        [0]: \n",
    "        ['team', 'overs', 'powerplays']\n",
    "            overs: A list containing all the overs bowled in the innnings\n",
    "                [j]:\n",
    "                ['over', 'deliveries']\n",
    "                    over: no. of the over being bowled, j\n",
    "                    deliveries: A list containing each and every delivery\n",
    "                        [k]:\n",
    "                        ['batter', 'bowler', 'non_striker', 'runs']\n",
    "                        runs: breakdown of the delivery\n",
    "                        ['batter', 'extras', 'total']\n",
    "                            batter: Runs given to the batsman\n",
    "                            extras: 0 if no extras were scored\n",
    "                            else a dictionary breaking down the extras\n",
    "                            total: Total runs on that delivery\n",
    "            powerplays: list containing all the powerplays, in the case of T20\n",
    "            this only has one element\n",
    "                [0]:\n",
    "                ['from', 'to', 'type']\n",
    "        \n",
    "        [1]:\n",
    "        ['team', 'overs', 'powerplays', 'target']\n",
    "            target: Only the second innings has the target attr\n",
    "            ['overs', 'runs']\n",
    "'''\n"
   ]
  },
  {
   "cell_type": "code",
   "execution_count": null,
   "metadata": {},
   "outputs": [],
   "source": [
    "# Structure of Overs_dict\n",
    "\n",
    "'''\n",
    "overs_dict: \n",
    "    season_no.:\n",
    "        team_name: This data is stored according to the team's bowling \n",
    "        and is a list of all the innings bowled by the team in that season\n",
    "        [batting, inngings, total, wickets, extras]\n",
    "            batting: Name of the batting team\n",
    "            innings: A list containing all the overs bowled be the team\n",
    "            [i]: proxy over no., which contains all the over data as in the \n",
    "                JSON file, but has a few extra keys,\n",
    "                like-\n",
    "                runs: total no. of runs given in that over\n",
    "                extras: no. of runs given becuase of wides & noballs\n",
    "                wickets: no. of wickets lost in that oover\n",
    "                batters: dictionary of all the batsman that faced a ball \n",
    "                    in the ith over, like-\n",
    "                    batter_name: runs socred by him\n",
    "                wicket_list: list of dictionaries of wickets lost in the ith over\n",
    "                    this dict has the following keys: [batsman,bowler, type of dismissal,\n",
    "                    name of fielder if its a catch or run out]   \n",
    "            total:\n",
    "            wickets:\n",
    "            extras:         \n",
    "'''\n"
   ]
  },
  {
   "cell_type": "code",
   "execution_count": 17,
   "metadata": {},
   "outputs": [
    {
     "name": "stdout",
     "output_type": "stream",
     "text": [
      "950 files processed\n"
     ]
    }
   ],
   "source": [
    "# Process Data from all the json files\n",
    "overs_dict = {}\n",
    "nums = 0\n",
    "for season in range(2008, 2023):\n",
    "    overs_dict[season] = {}\n",
    "for file in os.listdir(json_files_path):\n",
    "    nums += 1\n",
    "    with open(json_files_path+'/'+file) as f:\n",
    "        match = json.loads(f.read())\n",
    "        season = process_season(match['info']['season'])\n",
    "        teams = set(match['info']['teams'])\n",
    "        for inn in match['innings']:\n",
    "            batting_team = {inn['team']}\n",
    "            bowling_team = (teams-batting_team).pop()\n",
    "            overs_dict[season].setdefault(bowling_team, [])\n",
    "            innings = []\n",
    "            match_data = {'batting': inn['team'],\n",
    "                          'innings': innings,\n",
    "                          }\n",
    "\n",
    "            for over in inn['overs']:\n",
    "                runs = 0\n",
    "                extras = 0\n",
    "                wickets = 0\n",
    "                over['batters'] = {}\n",
    "                for delivery in over['deliveries']:\n",
    "                    over['batters'].setdefault(delivery['batter'], 0)\n",
    "                    over['batters'][delivery['batter']\n",
    "                                    ] += delivery['runs']['batter']\n",
    "                    runs += delivery['runs']['total']\n",
    "                    if 'extras' in delivery:\n",
    "                        for extra in delivery['extras']:\n",
    "                            if extra in ('wides', 'noballs'):\n",
    "                                extras += delivery['runs']['extras']\n",
    "                    if 'wickets' in delivery:\n",
    "                        wickets += 1\n",
    "                        over.setdefault('wicket_list', [])\n",
    "                        over['wicket_list'].append(delivery['wickets'])\n",
    "                over['runs'] = runs\n",
    "                over['extras'] = extras\n",
    "                over['wickets'] = wickets\n",
    "                innings.append(over)\n",
    "            overs_dict[season][bowling_team].append(match_data)\n",
    "print(f'{nums} files processed')\n"
   ]
  },
  {
   "cell_type": "code",
   "execution_count": 12,
   "metadata": {},
   "outputs": [],
   "source": [
    "# Save data into overs_data.json \n",
    "with open('./overs_data.json', 'w') as file:\n",
    "    file.write(json.dumps(overs_dict))"
   ]
  },
  {
   "cell_type": "code",
   "execution_count": 4,
   "metadata": {},
   "outputs": [],
   "source": [
    "# Read data from overs_data.json\n",
    "with open('./overs_data.json', 'r') as file:\n",
    "    overs_dict = json.loads(file.read())"
   ]
  },
  {
   "cell_type": "code",
   "execution_count": 7,
   "metadata": {},
   "outputs": [],
   "source": [
    "# Add Tota Runs, Total Wickets taken and extras given in the \n",
    "# entire innings by the bowling team to the overs_dict json\n",
    "for season, season_data in overs_dict.items():\n",
    "    # season = process_season(season)\n",
    "    for team, matches in season_data.items():\n",
    "        for i, match in enumerate(matches):\n",
    "            runs_total = 0\n",
    "            wickets_total = 0\n",
    "            extras_total = 0\n",
    "            for over in match['innings']:\n",
    "                runs_total += over['runs']\n",
    "                wickets_total += over['wickets']\n",
    "                extras_total += over['extras']\n",
    "\n",
    "            overs_dict[season][team][i].setdefault('total', runs_total)\n",
    "            overs_dict[season][team][i].setdefault('wickets', wickets_total)\n",
    "            overs_dict[season][team][i].setdefault('extras', extras_total)\n",
    "            "
   ]
  }
 ],
 "metadata": {
  "interpreter": {
   "hash": "81794d4967e6c3204c66dcd87b604927b115b27c00565d3d43f05ba2f3a2cb0d"
  },
  "kernelspec": {
   "display_name": "Python 3.9.5 64-bit",
   "language": "python",
   "name": "python3"
  },
  "language_info": {
   "codemirror_mode": {
    "name": "ipython",
    "version": 3
   },
   "file_extension": ".py",
   "mimetype": "text/x-python",
   "name": "python",
   "nbconvert_exporter": "python",
   "pygments_lexer": "ipython3",
   "version": "3.9.5"
  },
  "orig_nbformat": 4
 },
 "nbformat": 4,
 "nbformat_minor": 2
}
