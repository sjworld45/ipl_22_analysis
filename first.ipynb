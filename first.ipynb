{
 "cells": [
  {
   "cell_type": "code",
   "execution_count": 1,
   "metadata": {},
   "outputs": [],
   "source": [
    "from pathlib import Path\n",
    "import json\n",
    "import csv\n",
    "import os\n",
    "import matplotlib.pyplot as plt\n",
    "import numpy as np"
   ]
  },
  {
   "cell_type": "code",
   "execution_count": 4,
   "metadata": {},
   "outputs": [],
   "source": [
    "json_files = 'E:/SJ/cricket/analysis/IPL/json'"
   ]
  },
  {
   "cell_type": "markdown",
   "metadata": {},
   "source": [
    "# Baby Steps\n",
    "purpose here is to understand how to work with the JSON files and extract data"
   ]
  },
  {
   "cell_type": "markdown",
   "metadata": {},
   "source": [
    "### Example File"
   ]
  },
  {
   "cell_type": "code",
   "execution_count": 10,
   "metadata": {},
   "outputs": [],
   "source": [
    "with open(r'E:\\SJ\\cricket\\analysis\\json\\1304050.json') as f:\n",
    "    eg_file = json.loads(f.read())"
   ]
  },
  {
   "cell_type": "code",
   "execution_count": 13,
   "metadata": {},
   "outputs": [
    {
     "data": {
      "text/plain": [
       "dict_keys(['meta', 'info', 'innings'])"
      ]
     },
     "execution_count": 13,
     "metadata": {},
     "output_type": "execute_result"
    }
   ],
   "source": [
    "eg_file.keys()"
   ]
  },
  {
   "cell_type": "code",
   "execution_count": 14,
   "metadata": {},
   "outputs": [
    {
     "data": {
      "text/plain": [
       "dict_keys(['data_version', 'created', 'revision'])"
      ]
     },
     "execution_count": 14,
     "metadata": {},
     "output_type": "execute_result"
    }
   ],
   "source": [
    "eg_file['meta'].keys()"
   ]
  },
  {
   "cell_type": "code",
   "execution_count": 12,
   "metadata": {},
   "outputs": [
    {
     "data": {
      "text/plain": [
       "dict_keys(['balls_per_over', 'city', 'dates', 'event', 'gender', 'match_type', 'officials', 'outcome', 'overs', 'player_of_match', 'players', 'registry', 'season', 'team_type', 'teams', 'toss', 'venue'])"
      ]
     },
     "execution_count": 12,
     "metadata": {},
     "output_type": "execute_result"
    }
   ],
   "source": [
    "eg_file['info'].keys()"
   ]
  },
  {
   "cell_type": "code",
   "execution_count": 91,
   "metadata": {},
   "outputs": [
    {
     "data": {
      "text/plain": [
       "{'Lucknow Super Giants': ['KL Rahul',\n",
       "  'Q de Kock',\n",
       "  'E Lewis',\n",
       "  'MK Pandey',\n",
       "  'DJ Hooda',\n",
       "  'A Badoni',\n",
       "  'KH Pandya',\n",
       "  'PVD Chameera',\n",
       "  'Mohsin Khan',\n",
       "  'Ravi Bishnoi',\n",
       "  'Avesh Khan'],\n",
       " 'Gujarat Titans': ['Shubman Gill',\n",
       "  'MS Wade',\n",
       "  'V Shankar',\n",
       "  'HH Pandya',\n",
       "  'DA Miller',\n",
       "  'R Tewatia',\n",
       "  'A Manohar',\n",
       "  'Rashid Khan',\n",
       "  'LH Ferguson',\n",
       "  'Mohammed Shami',\n",
       "  'VR Aaron']}"
      ]
     },
     "execution_count": 91,
     "metadata": {},
     "output_type": "execute_result"
    }
   ],
   "source": [
    "eg_file['info']['players']"
   ]
  },
  {
   "cell_type": "code",
   "execution_count": 31,
   "metadata": {},
   "outputs": [
    {
     "data": {
      "text/plain": [
       "{'winner': 'Gujarat Titans', 'by': {'wickets': 5}}"
      ]
     },
     "execution_count": 31,
     "metadata": {},
     "output_type": "execute_result"
    }
   ],
   "source": [
    "eg_file['info']['outcome']"
   ]
  },
  {
   "cell_type": "code",
   "execution_count": 27,
   "metadata": {},
   "outputs": [
    {
     "data": {
      "text/plain": [
       "2"
      ]
     },
     "execution_count": 27,
     "metadata": {},
     "output_type": "execute_result"
    }
   ],
   "source": [
    "len(eg_file['innings'])"
   ]
  },
  {
   "cell_type": "code",
   "execution_count": 30,
   "metadata": {},
   "outputs": [
    {
     "data": {
      "text/plain": [
       "{'overs': 20, 'runs': 159}"
      ]
     },
     "execution_count": 30,
     "metadata": {},
     "output_type": "execute_result"
    }
   ],
   "source": [
    "eg_file['innings'][1]['target']"
   ]
  },
  {
   "cell_type": "code",
   "execution_count": 32,
   "metadata": {},
   "outputs": [
    {
     "data": {
      "text/plain": [
       "dict_keys(['team', 'overs', 'powerplays', 'target'])"
      ]
     },
     "execution_count": 32,
     "metadata": {},
     "output_type": "execute_result"
    }
   ],
   "source": [
    "eg_file['innings'][1].keys()"
   ]
  },
  {
   "cell_type": "code",
   "execution_count": 69,
   "metadata": {},
   "outputs": [
    {
     "data": {
      "text/plain": [
       "dict_keys(['team', 'overs', 'powerplays'])"
      ]
     },
     "execution_count": 69,
     "metadata": {},
     "output_type": "execute_result"
    }
   ],
   "source": [
    "eg_file['innings'][0].keys()\n"
   ]
  },
  {
   "cell_type": "code",
   "execution_count": 39,
   "metadata": {},
   "outputs": [
    {
     "name": "stdout",
     "output_type": "stream",
     "text": [
      "161 / 5\n"
     ]
    }
   ],
   "source": [
    "#runs scored by second team\n",
    "runs = 0 # shld be above 159\n",
    "wickets = 0 # shld be 5\n",
    "for over in eg_file['innings'][1]['overs']:\n",
    "    for delivery in over['deliveries']:\n",
    "        runs += delivery['runs']['total']\n",
    "        if 'wickets' in delivery:\n",
    "            wickets += 1\n",
    "print(runs,'/', wickets)\n"
   ]
  },
  {
   "cell_type": "markdown",
   "metadata": {},
   "source": [
    "### the first task is to record each and every innings played by a player in the IPL"
   ]
  },
  {
   "cell_type": "code",
   "execution_count": 5,
   "metadata": {},
   "outputs": [
    {
     "name": "stdout",
     "output_type": "stream",
     "text": [
      "Total no. of matches: 950\n",
      "Total No. of matches played by V Kohli: 222 \n"
     ]
    }
   ],
   "source": [
    "# Getting no of matches from player registry of each match\n",
    "n = 0\n",
    "inn = 0\n",
    "pl_name = 'V Kohli'\n",
    "for file in os.listdir(json_files):\n",
    "    if file.endswith('json'):\n",
    "        n+=1\n",
    "        with open(json_files+f'/{file}') as json_file:\n",
    "            match = json.loads(json_file.read())\n",
    "            if pl_name in match['info']['registry']['people']:\n",
    "                inn += 1\n",
    "print(f'Total no. of matches: {n}')\n",
    "print(f'Total No. of matches played by {pl_name}: {inn} ')\n"
   ]
  },
  {
   "cell_type": "code",
   "execution_count": 6,
   "metadata": {},
   "outputs": [
    {
     "name": "stdout",
     "output_type": "stream",
     "text": [
      "Total no. of matches: 950\n",
      "Total No. of matches played by V Kohli: 222 \n"
     ]
    }
   ],
   "source": [
    "# Getting No. of matches from line-ups\n",
    "n = 0\n",
    "inn = 0\n",
    "pl_name = 'V Kohli'\n",
    "for file in os.listdir(json_files):\n",
    "    if file.endswith('json'):\n",
    "        n += 1\n",
    "        with open(json_files+f'/{file}') as json_file:\n",
    "            match = json.loads(json_file.read())\n",
    "            if 'Royal Challengers Bangalore' in match['info']['players']:\n",
    "                if 'V Kohli' in match['info']['players']['Royal Challengers Bangalore']:\n",
    "                    inn += 1\n",
    "print(f'Total no. of matches: {n}')\n",
    "print(f'Total No. of matches played by {pl_name}: {inn} ')\n"
   ]
  },
  {
   "cell_type": "code",
   "execution_count": 7,
   "metadata": {},
   "outputs": [
    {
     "name": "stdout",
     "output_type": "stream",
     "text": [
      "Total no. of matches: 950\n",
      "Total No. of matches played by V Kohli: 222 \n",
      "RCB matches where V Kohli did not play: 4\n"
     ]
    }
   ],
   "source": [
    "n = 0\n",
    "mats = 0\n",
    "left_out = 0\n",
    "inns = []\n",
    "pl_name = 'V Kohli'\n",
    "for file in os.listdir(json_files):\n",
    "    if file.endswith('json'):\n",
    "        n += 1\n",
    "        with open(json_files+f'/{file}') as json_file:\n",
    "            match = json.loads(json_file.read())\n",
    "            if 'Royal Challengers Bangalore' in match['info']['players']:\n",
    "                if pl_name in match['info']['players']['Royal Challengers Bangalore']:\n",
    "                    mats += 1\n",
    "                else:\n",
    "                    left_out += 1\n",
    "print(f'Total no. of matches: {n}')\n",
    "print(f'Total No. of matches played by {pl_name}: {mats} ')\n",
    "print(f'RCB matches where {pl_name} did not play: {left_out}')"
   ]
  },
  {
   "cell_type": "markdown",
   "metadata": {},
   "source": [
    "### Getting all the runs scored by V Kohli"
   ]
  },
  {
   "cell_type": "code",
   "execution_count": 73,
   "metadata": {},
   "outputs": [],
   "source": [
    "runs = []\n",
    "team_name = 'Royal Challengers Bangalore'\n",
    "pl_name = 'V Kohli'\n",
    "for file in os.listdir(json_files):\n",
    "    if file.endswith('json'):\n",
    "        with open(json_files+'/'+file) as f:\n",
    "            match = json.loads(f.read())\n",
    "            match_runs = 0\n",
    "            if pl_name in match['info']['registry']['people']:\n",
    "                for inn in match['innings']:\n",
    "                    if team_name == inn['team']:\n",
    "                        for over in inn['overs']:\n",
    "                            for delivery in over['deliveries']:\n",
    "                                if pl_name == delivery['batter']:\n",
    "                                    match_runs += delivery['runs']['batter']\n",
    "                runs.append(match_runs)\n"
   ]
  },
  {
   "cell_type": "code",
   "execution_count": 74,
   "metadata": {},
   "outputs": [
    {
     "data": {
      "text/plain": [
       "211"
      ]
     },
     "execution_count": 74,
     "metadata": {},
     "output_type": "execute_result"
    }
   ],
   "source": [
    "len(runs)"
   ]
  },
  {
   "cell_type": "code",
   "execution_count": 77,
   "metadata": {},
   "outputs": [
    {
     "data": {
      "text/plain": [
       "30.33175355450237"
      ]
     },
     "execution_count": 77,
     "metadata": {},
     "output_type": "execute_result"
    }
   ],
   "source": [
    "np.mean(runs)"
   ]
  },
  {
   "cell_type": "code",
   "execution_count": 78,
   "metadata": {},
   "outputs": [
    {
     "data": {
      "text/plain": [
       "23.0"
      ]
     },
     "execution_count": 78,
     "metadata": {},
     "output_type": "execute_result"
    }
   ],
   "source": [
    "np.median(runs)"
   ]
  },
  {
   "cell_type": "code",
   "execution_count": 79,
   "metadata": {},
   "outputs": [
    {
     "data": {
      "text/plain": [
       "26.387090881176956"
      ]
     },
     "execution_count": 79,
     "metadata": {},
     "output_type": "execute_result"
    }
   ],
   "source": [
    "np.std(runs)"
   ]
  },
  {
   "cell_type": "code",
   "execution_count": 80,
   "metadata": {},
   "outputs": [
    {
     "data": {
      "text/plain": [
       "(113, 0)"
      ]
     },
     "execution_count": 80,
     "metadata": {},
     "output_type": "execute_result"
    }
   ],
   "source": [
    "max(runs), min(runs)"
   ]
  },
  {
   "cell_type": "code",
   "execution_count": 75,
   "metadata": {},
   "outputs": [
    {
     "data": {
      "text/plain": [
       "6400"
      ]
     },
     "execution_count": 75,
     "metadata": {},
     "output_type": "execute_result"
    }
   ],
   "source": [
    "sum(runs)"
   ]
  },
  {
   "cell_type": "markdown",
   "metadata": {},
   "source": [
    "Getting all runs scored by V Kohli and storing them season wise"
   ]
  },
  {
   "cell_type": "code",
   "execution_count": 88,
   "metadata": {},
   "outputs": [],
   "source": [
    "runs = {}\n",
    "team_name = 'Royal Challengers Bangalore'\n",
    "pl_name = 'V Kohli'\n",
    "for file in os.listdir(json_files):\n",
    "    if file.endswith('json'):\n",
    "        with open(json_files+'/'+file) as f:\n",
    "            match = json.loads(f.read())\n",
    "            match_runs = 0\n",
    "            season = str(match['info']['season'])\n",
    "            if pl_name in match['info']['registry']['people']:\n",
    "                for inn in match['innings']:\n",
    "                    if team_name == inn['team']:\n",
    "                        for over in inn['overs']:\n",
    "                            for delivery in over['deliveries']:\n",
    "                                if pl_name == delivery['batter']:\n",
    "                                    match_runs += delivery['runs']['batter']\n",
    "                runs.setdefault(season, [])\n",
    "                runs[season].append(match_runs)\n"
   ]
  },
  {
   "cell_type": "code",
   "execution_count": 89,
   "metadata": {},
   "outputs": [
    {
     "name": "stdout",
     "output_type": "stream",
     "text": [
      "2017 : 64\n",
      "2018 : 92\n",
      "2019 : 100\n",
      "2020/21 : 90\n",
      "2021 : 72\n",
      "2022 : 48\n",
      "2007/08 : 38\n",
      "2009 : 50\n",
      "2009/10 : 58\n",
      "2011 : 71\n",
      "2012 : 73\n",
      "2013 : 99\n",
      "2014 : 73\n",
      "2015 : 82\n",
      "2016 : 113\n"
     ]
    }
   ],
   "source": [
    "# Highest score in every season\n",
    "for season in runs:\n",
    "    print(season,':', max(runs[season]))"
   ]
  },
  {
   "cell_type": "code",
   "execution_count": 90,
   "metadata": {},
   "outputs": [
    {
     "name": "stdout",
     "output_type": "stream",
     "text": [
      "2017 : 308\n",
      "2018 : 530\n",
      "2019 : 464\n",
      "2020/21 : 471\n",
      "2021 : 405\n",
      "2022 : 107\n",
      "2007/08 : 165\n",
      "2009 : 246\n",
      "2009/10 : 307\n",
      "2011 : 557\n",
      "2012 : 364\n",
      "2013 : 639\n",
      "2014 : 359\n",
      "2015 : 505\n",
      "2016 : 973\n"
     ]
    }
   ],
   "source": [
    "# Total runs in every season\n",
    "for season in runs:\n",
    "    print(season,':', sum(runs[season]))"
   ]
  },
  {
   "cell_type": "markdown",
   "metadata": {},
   "source": [
    "### Rohit"
   ]
  },
  {
   "cell_type": "code",
   "execution_count": 66,
   "metadata": {},
   "outputs": [
    {
     "name": "stdout",
     "output_type": "stream",
     "text": [
      "Total no. of matches: 898\n",
      "Total No. of matches played by RG Sharma: 211 \n",
      "Mumbai Indians matches where RG Sharma did not play: 612\n"
     ]
    }
   ],
   "source": [
    "n = 0\n",
    "mats = 0\n",
    "left_out = 0\n",
    "inns = []\n",
    "team_name = 'Mumbai Indians'\n",
    "team_name2 = 'Deccan Chargers'\n",
    "pl_name = 'RG Sharma'\n",
    "for file in os.listdir(json_files):\n",
    "    if file.endswith('json'):\n",
    "        n += 1\n",
    "        with open(json_files+f'/{file}') as json_file:\n",
    "            match = json.loads(json_file.read())\n",
    "            # if type(match['info']['season']) is str:\n",
    "            #     season = int(match['info']['season'].split('/')[0])\n",
    "            # else: \n",
    "            #     season = match['info']['season']\n",
    "            # if season > 2009:\n",
    "        \n",
    "            if team_name in match['info']['players'] :\n",
    "                if pl_name in match['info']['players'][team_name]:\n",
    "                    mats += 1\n",
    "            elif team_name2 in match['info']['players'] :\n",
    "                if pl_name in match['info']['players'][team_name2]:\n",
    "                    mats += 1\n",
    "            else:\n",
    "                left_out += 1\n",
    "print(f'Total no. of matches: {n}')\n",
    "print(f'Total No. of matches played by {pl_name}: {mats} ')\n",
    "print(f'{team_name} matches where {pl_name} did not play: {left_out}')\n"
   ]
  },
  {
   "cell_type": "code",
   "execution_count": 93,
   "metadata": {},
   "outputs": [],
   "source": [
    "runs = {}\n",
    "# team_name = 'Royal Challengers Bangalore'\n",
    "pl_name = 'RG Sharma'\n",
    "for file in os.listdir(json_files):\n",
    "    if file.endswith('json'):\n",
    "        with open(json_files+'/'+file) as f:\n",
    "            match = json.loads(f.read())\n",
    "            match_runs = 0\n",
    "            season = str(match['info']['season'])\n",
    "            if pl_name in match['info']['registry']['people']:\n",
    "                for team in match['info']['teams']:\n",
    "                    if pl_name in match['info']['players'][team]:\n",
    "                        team_name = team\n",
    "                for inn in match['innings']:\n",
    "                    if team_name == inn['team']:\n",
    "                        for over in inn['overs']:\n",
    "                            for delivery in over['deliveries']:\n",
    "                                if pl_name == delivery['batter']:\n",
    "                                    match_runs += delivery['runs']['batter']\n",
    "                runs.setdefault(season, [])\n",
    "                runs[season].append(match_runs)\n"
   ]
  },
  {
   "cell_type": "code",
   "execution_count": 94,
   "metadata": {},
   "outputs": [
    {
     "name": "stdout",
     "output_type": "stream",
     "text": [
      "2017 : 333\n",
      "2018 : 286\n",
      "2019 : 405\n",
      "2020/21 : 334\n",
      "2021 : 381\n",
      "2022 : 80\n",
      "2007/08 : 404\n",
      "2009 : 362\n",
      "2009/10 : 404\n",
      "2011 : 372\n",
      "2012 : 433\n",
      "2013 : 538\n",
      "2014 : 390\n",
      "2015 : 482\n",
      "2016 : 489\n"
     ]
    }
   ],
   "source": [
    "# Total runs in every season\n",
    "for season in runs:\n",
    "    print(season, ':', sum(runs[season]))\n"
   ]
  },
  {
   "cell_type": "code",
   "execution_count": 100,
   "metadata": {},
   "outputs": [
    {
     "name": "stdout",
     "output_type": "stream",
     "text": [
      "2017 : 67\n",
      "2018 : 94\n",
      "2019 : 67\n",
      "2020/21 : 80\n",
      "2021 : 63\n",
      "2022 : 41\n",
      "2007/08 : 76\n",
      "2009 : 52\n",
      "2009/10 : 73\n",
      "2011 : 87\n",
      "2012 : 109\n",
      "2013 : 79\n",
      "2014 : 59\n",
      "2015 : 98\n",
      "2016 : 85\n"
     ]
    }
   ],
   "source": [
    "# Highest score in every season\n",
    "for season in runs:\n",
    "    print(season, ':', max(runs[season]))\n"
   ]
  },
  {
   "cell_type": "code",
   "execution_count": 98,
   "metadata": {},
   "outputs": [
    {
     "name": "stdout",
     "output_type": "stream",
     "text": [
      "2017 : 22.03\n",
      "2018 : 25.36\n",
      "2019 : 18.75\n",
      "2020/21 : 28.11\n",
      "2021 : 15.82\n",
      "2022 : 14.71\n",
      "2007/08 : 24.52\n",
      "2009 : 14.77\n",
      "2009/10 : 24.6\n",
      "2011 : 24.87\n",
      "2012 : 30.53\n",
      "2013 : 25.16\n",
      "2014 : 17.8\n",
      "2015 : 23.32\n",
      "2016 : 30.18\n"
     ]
    }
   ],
   "source": [
    "# seeing how consistent he has been by looking at std\n",
    "for season in runs:\n",
    "    print(season, ':', round(np.std(runs[season]), 2))\n"
   ]
  },
  {
   "cell_type": "code",
   "execution_count": 101,
   "metadata": {},
   "outputs": [],
   "source": [
    "flat_runs = []\n",
    "for season in runs:\n",
    "    flat_runs.extend(runs[season])"
   ]
  },
  {
   "cell_type": "code",
   "execution_count": 103,
   "metadata": {},
   "outputs": [
    {
     "data": {
      "text/plain": [
       "(26.235023041474655, 19.0)"
      ]
     },
     "execution_count": 103,
     "metadata": {},
     "output_type": "execute_result"
    }
   ],
   "source": [
    "np.mean(flat_runs), np.median(flat_runs)"
   ]
  },
  {
   "cell_type": "markdown",
   "metadata": {},
   "source": [
    "### Extract Data"
   ]
  },
  {
   "cell_type": "code",
   "execution_count": 8,
   "metadata": {},
   "outputs": [],
   "source": [
    "def process_season(season):\n",
    "    if '/' in str(season):\n",
    "        t = {'2020/21':2020, '2007/08':2008, '2009/10':2010}\n",
    "        return t[season]\n",
    "    else:\n",
    "        return int(season)"
   ]
  },
  {
   "cell_type": "code",
   "execution_count": 15,
   "metadata": {},
   "outputs": [],
   "source": [
    "def get_player_scores(pl_name):\n",
    "    runs = {}\n",
    "    for file in os.listdir(json_files):\n",
    "        if file.endswith('json'):\n",
    "            with open(json_files+'/'+file) as f:\n",
    "                match = json.loads(f.read())\n",
    "                match_runs = 0\n",
    "                team_name = ''\n",
    "                season = process_season((match['info']['season']))\n",
    "                if pl_name in match['info']['registry']['people']:\n",
    "                    for team in match['info']['teams']:\n",
    "                        if pl_name in match['info']['players'][team]:\n",
    "                            team_name = team\n",
    "                    for inn in match['innings']:\n",
    "                        if team_name == inn['team']:\n",
    "                            for over in inn['overs']:\n",
    "                                for delivery in over['deliveries']:\n",
    "                                    if pl_name == delivery['batter']:\n",
    "                                        match_runs += delivery['runs']['batter']\n",
    "                    runs.setdefault(season, [])\n",
    "                    runs[season].append(match_runs)\n",
    "    return runs\n"
   ]
  },
  {
   "cell_type": "code",
   "execution_count": 16,
   "metadata": {},
   "outputs": [
    {
     "data": {
      "text/plain": [
       "{2017: [3, 2, 4, 0, 40, 0, 5, 58, 5, 56, 10, 67, 5, 27, 1, 26, 24],\n",
       " 2018: [15, 11, 18, 94, 0, 2, 56, 0, 24, 11, 36, 0, 6, 13],\n",
       " 2019: [14, 48, 32, 13, 11, 47, 28, 30, 5, 67, 12, 24, 55, 4, 15],\n",
       " 2020: [12, 4, 70, 80, 35, 11, 35, 5, 6, 8, 0, 68],\n",
       " 2021: [19, 43, 32, 44, 63, 14, 35, 18, 22, 33, 8, 43, 7],\n",
       " 2022: [41, 10, 3, 26],\n",
       " 2008: [0, 66, 36, 0, 76, 17, 23, 5, 33, 35, 6, 50, 57],\n",
       " 2009: [36, 52, 3, 18, 17, 38, 21, 38, 9, 9, 6, 32, 42, 12, 5, 24],\n",
       " 2010: [13, 19, 1, 45, 49, 45, 2, 11, 73, 6, 8, 51, 68, 11, 2, 0],\n",
       " 2011: [27, 0, 0, 20, 87, 56, 13, 18, 12, 49, 5, 4, 58, 10, 0, 13],\n",
       " 2012: [0, 1, 73, 21, 29, 2, 50, 12, 42, 3, 60, 0, 109, 5, 12, 0, 14],\n",
       " 2013: [11, 8, 74, 62, 2, 73, 34, 10, 79, 22, 39, 16, 37, 20, 14, 25, 8, 2, 2],\n",
       " 2014: [27, 2, 50, 4, 1, 39, 59, 19, 14, 51, 40, 18, 30, 16, 20],\n",
       " 2015: [98, 0, 0, 50, 42, 30, 24, 27, 26, 46, 18, 15, 30, 7, 19, 50],\n",
       " 2016: [7, 84, 7, 5, 62, 65, 0, 68, 85, 5, 25, 15, 31, 30]}"
      ]
     },
     "execution_count": 16,
     "metadata": {},
     "output_type": "execute_result"
    }
   ],
   "source": [
    "get_player_scores('RG Sharma')"
   ]
  },
  {
   "cell_type": "markdown",
   "metadata": {},
   "source": [
    "the snippet below is absolutely unfeasible since it seperately extracts info for each player and therefore goes over the 900 or so files almost 500 times"
   ]
  },
  {
   "cell_type": "code",
   "execution_count": 11,
   "metadata": {},
   "outputs": [],
   "source": [
    "# get_all_player_scores\n",
    "# all_players_runs = {}\n",
    "# for file in os.listdir(json_files):\n",
    "#     if file.endswith('json'):\n",
    "#         with open(json_files+'/'+file) as f:\n",
    "#             match = json.loads(f.read())\n",
    "#             for team in match['info']['players']:\n",
    "#                 for player in match['info']['players'][team]:\n",
    "#                     if player not in all_players_runs:\n",
    "#                         all_players_runs[player] = get_player_scores(player)\n",
    "#                     else:\n",
    "#                         continue"
   ]
  },
  {
   "cell_type": "code",
   "execution_count": 17,
   "metadata": {},
   "outputs": [],
   "source": [
    "# # extract the runs scored by all the players that have ever played in the competition\n",
    "# all_players_runs = {}\n",
    "# for file in os.listdir(json_files):\n",
    "#     if file.endswith('json'):\n",
    "#         with open(json_files+'/'+file) as f:\n",
    "#             match = json.loads(f.read())\n",
    "#             match_runs = {}\n",
    "#             season = process_season(match['info']['season'])\n",
    "#             for inn in match['innings']:\n",
    "#                 for over in inn['overs']:\n",
    "#                     for delivery in over['deliveries']:\n",
    "#                         match_runs.setdefault(delivery['batter'], [])\n",
    "#                         match_runs[delivery['batter']].append(delivery['runs']['batter'])\n",
    "#     for player in match_runs:\n",
    "#         all_players_runs.setdefault(player, {})\n",
    "#         all_players_runs[player].setdefault(season, [])\n",
    "#         all_players_runs[player][season].append(sum(match_runs[player]))\n",
    "\n"
   ]
  },
  {
   "cell_type": "code",
   "execution_count": 9,
   "metadata": {},
   "outputs": [],
   "source": [
    "# every player's season wise- runs, balls,dots, out, 4s, 6s\n",
    "# extract the runs scored by all the players that have ever played in the competition \n",
    "# along with the number of balls they faced\n",
    "# also add the boundaries they hit\n",
    "all_players_runs = {}\n",
    "for file in os.listdir(json_files):\n",
    "    if file.endswith('json'):\n",
    "        with open(json_files+'/'+file) as f:\n",
    "            match = json.loads(f.read())\n",
    "            match_runs = {}\n",
    "            dismissals = set()\n",
    "            fours = {}\n",
    "            sixes = {}\n",
    "            dots = {}\n",
    "            balls = {}\n",
    "            season = process_season(match['info']['season'])\n",
    "            \n",
    "            for inn in match['innings']:\n",
    "                for over in inn['overs']:\n",
    "                    for delivery in over['deliveries']:\n",
    "                        fours.setdefault(delivery['batter'], 0)\n",
    "                        sixes.setdefault(delivery['batter'], 0)\n",
    "                        dots.setdefault(delivery['batter'], 0)\n",
    "                        balls.setdefault(delivery['batter'], 0)\n",
    "                        if 'wickets' in delivery:\n",
    "                            dismissals.add(delivery['wickets'][0]['player_out'])\n",
    "                        if delivery['runs']['batter'] == 4:\n",
    "                            fours[delivery['batter']] += 1\n",
    "                        if delivery['runs']['batter'] == 6:\n",
    "                            sixes[delivery['batter']] += 1\n",
    "                        if 'extras' not in delivery or ( ('wides' not in delivery['extras']) and ('noballs' not in delivery['extras'])):\n",
    "                            balls[delivery['batter']] += 1\n",
    "                            if delivery['runs']['batter'] == 0:\n",
    "                                dots[delivery['batter']] += 1\n",
    "\n",
    "                        match_runs.setdefault(delivery['batter'], [])\n",
    "                        match_runs[delivery['batter']].append(delivery['runs']['batter'])\n",
    "    for player in match_runs:\n",
    "        if player in dismissals:\n",
    "            out = 1\n",
    "        else:\n",
    "            out = 0\n",
    "        all_players_runs.setdefault(player, {})\n",
    "        all_players_runs[player].setdefault(season, [])\n",
    "        all_players_runs[player][season].append(\n",
    "            {\n",
    "                'Runs':sum(match_runs[player]),\n",
    "                'Balls': balls[player],\n",
    "                'Dots': dots[player],\n",
    "                'Out':out,\n",
    "                '4s': fours[player],\n",
    "                '6s': sixes[player]\n",
    "            })"
   ]
  },
  {
   "cell_type": "code",
   "execution_count": 10,
   "metadata": {},
   "outputs": [],
   "source": [
    "def career(pl_name):\n",
    "    thirties = 0\n",
    "    fifties = 0\n",
    "    hundreds = 0\n",
    "    SR = []\n",
    "    headers = ['Inns']+list(all_players_runs['V Kohli'][2016][1].keys())+['SR','Avg','30s', '50s', '100s']\n",
    "    pl_career = {}\n",
    "    for season in all_players_runs[pl_name]:\n",
    "        for header in headers:\n",
    "            pl_career.setdefault(header, 0)\n",
    "        for match in all_players_runs[pl_name][season]:\n",
    "            pl_career['Inns']+=1\n",
    "            for stat in match:\n",
    "                pl_career[stat]+=match[stat]\n",
    "            if match['Balls'] > 0:\n",
    "                SR.append((match['Runs']/match['Balls'])*100)\n",
    "            run = match['Runs']\n",
    "            if run in range(30,50):\n",
    "                pl_career['30s'] += 1\n",
    "            elif run in range(50, 100):\n",
    "                pl_career['50s'] += 1\n",
    "            elif run >= 100:\n",
    "                pl_career['100s'] += 1\n",
    "\n",
    "    pl_career['SR'] = round((pl_career['Runs']/pl_career['Balls'])*100,2)\n",
    "    if pl_career['Out'] == 0:\n",
    "        pl_career['Avg'] = 0\n",
    "    else:\n",
    "        pl_career['Avg'] = round(pl_career['Runs']/pl_career['Out'], 2)\n",
    "    return pl_career"
   ]
  },
  {
   "cell_type": "code",
   "execution_count": 13,
   "metadata": {},
   "outputs": [
    {
     "data": {
      "text/plain": [
       "[{'Runs': 41, 'Balls': 29, 'Dots': 5, 'Out': 0, '4s': 1, '6s': 2},\n",
       " {'Runs': 12, 'Balls': 7, 'Dots': 3, 'Out': 1, '4s': 2, '6s': 0},\n",
       " {'Runs': 5, 'Balls': 6, 'Dots': 2, 'Out': 1, '4s': 0, '6s': 0},\n",
       " {'Runs': 48, 'Balls': 36, 'Dots': 10, 'Out': 1, '4s': 5, '6s': 0},\n",
       " {'Runs': 1, 'Balls': 3, 'Dots': 2, 'Out': 1, '4s': 0, '6s': 0},\n",
       " {'Runs': 12, 'Balls': 14, 'Dots': 6, 'Out': 1, '4s': 1, '6s': 0},\n",
       " {'Runs': 0, 'Balls': 1, 'Dots': 1, 'Out': 1, '4s': 0, '6s': 0},\n",
       " {'Runs': 0, 'Balls': 1, 'Dots': 1, 'Out': 1, '4s': 0, '6s': 0},\n",
       " {'Runs': 9, 'Balls': 10, 'Dots': 7, 'Out': 1, '4s': 2, '6s': 0},\n",
       " {'Runs': 58, 'Balls': 53, 'Dots': 20, 'Out': 1, '4s': 6, '6s': 1},\n",
       " {'Runs': 30, 'Balls': 33, 'Dots': 18, 'Out': 1, '4s': 3, '6s': 1},\n",
       " {'Runs': 0, 'Balls': 1, 'Dots': 1, 'Out': 1, '4s': 0, '6s': 0},\n",
       " {'Runs': 20, 'Balls': 14, 'Dots': 7, 'Out': 1, '4s': 2, '6s': 1},\n",
       " {'Runs': 73, 'Balls': 54, 'Dots': 16, 'Out': 1, '4s': 8, '6s': 2},\n",
       " {'Runs': 25, 'Balls': 24, 'Dots': 10, 'Out': 1, '4s': 2, '6s': 0},\n",
       " {'Runs': 7, 'Balls': 8, 'Dots': 6, 'Out': 1, '4s': 0, '6s': 1}]"
      ]
     },
     "execution_count": 13,
     "metadata": {},
     "output_type": "execute_result"
    }
   ],
   "source": [
    "all_players_runs['V Kohli'][2022]"
   ]
  },
  {
   "cell_type": "code",
   "execution_count": 15,
   "metadata": {},
   "outputs": [
    {
     "data": {
      "text/plain": [
       "{'Inns': 215,\n",
       " 'Runs': 6634,\n",
       " 'Balls': 5115,\n",
       " 'Dots': 1745,\n",
       " 'Out': 183,\n",
       " '4s': 581,\n",
       " '6s': 219,\n",
       " 'SR': 129.7,\n",
       " 'Avg': 36.25,\n",
       " '30s': 46,\n",
       " '50s': 45,\n",
       " '100s': 5}"
      ]
     },
     "execution_count": 15,
     "metadata": {},
     "output_type": "execute_result"
    }
   ],
   "source": [
    "career('V Kohli')"
   ]
  },
  {
   "cell_type": "markdown",
   "metadata": {},
   "source": [
    "### Create a CSV File with every player and their career records"
   ]
  },
  {
   "cell_type": "code",
   "execution_count": 184,
   "metadata": {},
   "outputs": [],
   "source": [
    "# with open('ipl_batting_career.csv', 'w', newline='') as f:\n",
    "#     writer = csv.writer(f)\n",
    "#     headers = ['Name']+list(career('V Kohli').keys())\n",
    "#     writer.writerow(headers)\n",
    "#     for player in all_players_runs:\n",
    "#         writer.writerow((player,)+tuple(career(player).values()))\n"
   ]
  },
  {
   "cell_type": "markdown",
   "metadata": {},
   "source": [
    "### Create a JSON file with every player and their career as well as Season records"
   ]
  },
  {
   "cell_type": "code",
   "execution_count": 16,
   "metadata": {},
   "outputs": [],
   "source": [
    "def get_season_stats (pl_name, season):\n",
    "    season_stats = {}\n",
    "\n",
    "    for header in career(pl_name):\n",
    "        season_stats[header] = 0\n",
    "\n",
    "    for match in all_players_runs[pl_name][season]:\n",
    "        season_stats['Inns'] += 1\n",
    "        for stat in match:\n",
    "            season_stats[stat] += match[stat]\n",
    "        run = match['Runs']\n",
    "        if run in range(30,50):\n",
    "            season_stats['30s'] += 1\n",
    "        elif run in range(50, 100):\n",
    "            season_stats['50s'] += 1\n",
    "        elif run >= 100:\n",
    "            season_stats['100s'] += 1\n",
    "    try:\n",
    "        season_stats['SR'] = round((season_stats['Runs']/season_stats['Balls'])*100,2)\n",
    "        season_stats['Avg'] = round(season_stats['Runs']/season_stats['Out'], 2)\n",
    "    except ZeroDivisionError:\n",
    "        season_stats['SR'] = 0\n",
    "        season_stats['Avg'] = 0\n",
    "\n",
    "    return season_stats"
   ]
  },
  {
   "cell_type": "code",
   "execution_count": 17,
   "metadata": {},
   "outputs": [],
   "source": [
    "seasons = range(2008, 2023)\n",
    "player_batting_stats = {}\n",
    "for player in all_players_runs:\n",
    "    player_batting_stats[player] = {}\n",
    "    player_batting_stats[player]['career'] = career(player)\n",
    "    player_batting_stats[player]['seasons'] = {}\n",
    "    for season in seasons:\n",
    "        if season not in all_players_runs[player]:\n",
    "            continue\n",
    "        player_batting_stats[player]['seasons'][season] = {}\n",
    "        player_batting_stats[player]['seasons'][season]['matches'] = all_players_runs[player][season]\n",
    "        player_batting_stats[player]['seasons'][season]['stats'] = get_season_stats(player, season)"
   ]
  },
  {
   "cell_type": "code",
   "execution_count": 21,
   "metadata": {},
   "outputs": [
    {
     "data": {
      "text/plain": [
       "{'matches': [{'Runs': 41, 'Balls': 32, 'Dots': 14, 'Out': 1, '4s': 4, '6s': 2},\n",
       "  {'Runs': 10, 'Balls': 5, 'Dots': 2, 'Out': 1, '4s': 0, '6s': 1},\n",
       "  {'Runs': 3, 'Balls': 12, 'Dots': 9, 'Out': 1, '4s': 0, '6s': 0},\n",
       "  {'Runs': 26, 'Balls': 15, 'Dots': 8, 'Out': 1, '4s': 4, '6s': 1},\n",
       "  {'Runs': 28, 'Balls': 17, 'Dots': 9, 'Out': 1, '4s': 3, '6s': 2},\n",
       "  {'Runs': 6, 'Balls': 7, 'Dots': 4, 'Out': 1, '4s': 1, '6s': 0},\n",
       "  {'Runs': 0, 'Balls': 2, 'Dots': 2, 'Out': 1, '4s': 0, '6s': 0},\n",
       "  {'Runs': 39, 'Balls': 31, 'Dots': 14, 'Out': 1, '4s': 5, '6s': 1},\n",
       "  {'Runs': 2, 'Balls': 5, 'Dots': 3, 'Out': 1, '4s': 0, '6s': 0},\n",
       "  {'Runs': 43, 'Balls': 28, 'Dots': 12, 'Out': 1, '4s': 5, '6s': 2},\n",
       "  {'Runs': 2, 'Balls': 6, 'Dots': 5, 'Out': 1, '4s': 0, '6s': 0},\n",
       "  {'Runs': 18, 'Balls': 14, 'Dots': 8, 'Out': 1, '4s': 4, '6s': 0},\n",
       "  {'Runs': 48, 'Balls': 35, 'Dots': 15, 'Out': 1, '4s': 2, '6s': 4},\n",
       "  {'Runs': 2, 'Balls': 13, 'Dots': 11, 'Out': 1, '4s': 0, '6s': 0}],\n",
       " 'stats': {'Inns': 14,\n",
       "  'Runs': 268,\n",
       "  'Balls': 222,\n",
       "  'Dots': 116,\n",
       "  'Out': 14,\n",
       "  '4s': 28,\n",
       "  '6s': 13,\n",
       "  'SR': 120.72,\n",
       "  'Avg': 19.14,\n",
       "  '30s': 4,\n",
       "  '50s': 0,\n",
       "  '100s': 0}}"
      ]
     },
     "execution_count": 21,
     "metadata": {},
     "output_type": "execute_result"
    }
   ],
   "source": [
    "player_batting_stats['RG Sharma']['seasons'][2022]"
   ]
  },
  {
   "cell_type": "markdown",
   "metadata": {},
   "source": [
    "#### Store the batting stats in a JSON file"
   ]
  },
  {
   "cell_type": "code",
   "execution_count": 19,
   "metadata": {},
   "outputs": [],
   "source": [
    "# with open('ipl_batting_stats.json', 'w') as f:\n",
    "#     f.write(json.dumps(player_batting_stats))"
   ]
  },
  {
   "cell_type": "markdown",
   "metadata": {},
   "source": [
    "#### Read the Batting stats from a JSON file"
   ]
  },
  {
   "cell_type": "code",
   "execution_count": 6,
   "metadata": {},
   "outputs": [],
   "source": [
    "with open('ipl_batting_stats.json') as f:\n",
    "    batting_stats = json.loads(f.read())"
   ]
  },
  {
   "cell_type": "code",
   "execution_count": 28,
   "metadata": {},
   "outputs": [
    {
     "data": {
      "text/plain": [
       "{'matches': [{'Runs': 50, 'Balls': 37, 'Dots': 16, 'Out': 0, '4s': 7, '6s': 1},\n",
       "  {'Runs': 16, 'Balls': 6, 'Dots': 2, 'Out': 0, '4s': 2, '6s': 1},\n",
       "  {'Runs': 23, 'Balls': 27, 'Dots': 13, 'Out': 1, '4s': 1, '6s': 1},\n",
       "  {'Runs': 3, 'Balls': 6, 'Dots': 3, 'Out': 1, '4s': 0, '6s': 0},\n",
       "  {'Runs': 28, 'Balls': 13, 'Dots': 0, 'Out': 0, '4s': 3, '6s': 1},\n",
       "  {'Runs': 12, 'Balls': 8, 'Dots': 4, 'Out': 1, '4s': 1, '6s': 1},\n",
       "  {'Runs': 8, 'Balls': 7, 'Dots': 3, 'Out': 1, '4s': 1, '6s': 0},\n",
       "  {'Runs': 2, 'Balls': 3, 'Dots': 1, 'Out': 1, '4s': 0, '6s': 0},\n",
       "  {'Runs': 21, 'Balls': 8, 'Dots': 2, 'Out': 0, '4s': 1, '6s': 2},\n",
       "  {'Runs': 36, 'Balls': 33, 'Dots': 21, 'Out': 0, '4s': 4, '6s': 2},\n",
       "  {'Runs': 7, 'Balls': 10, 'Dots': 5, 'Out': 1, '4s': 0, '6s': 0},\n",
       "  {'Runs': 26, 'Balls': 28, 'Dots': 12, 'Out': 1, '4s': 1, '6s': 1}],\n",
       " 'stats': {'Inns': 12,\n",
       "  'Runs': 232,\n",
       "  'Balls': 186,\n",
       "  'Dots': 82,\n",
       "  'Out': 7,\n",
       "  '4s': 21,\n",
       "  '6s': 10,\n",
       "  'SR': 124.73,\n",
       "  'Avg': 33.14,\n",
       "  '30s': 1,\n",
       "  '50s': 1,\n",
       "  '100s': 0}}"
      ]
     },
     "execution_count": 28,
     "metadata": {},
     "output_type": "execute_result"
    }
   ],
   "source": [
    "player_batting_stats['MS Dhoni']['seasons'][2022]"
   ]
  },
  {
   "cell_type": "markdown",
   "metadata": {},
   "source": [
    "### Store the player stats in a python file"
   ]
  },
  {
   "cell_type": "code",
   "execution_count": 22,
   "metadata": {},
   "outputs": [],
   "source": [
    "with open('ipl_batting_stats.py', 'w', newline='') as f:\n",
    "    f.write(f'player_stats = {player_batting_stats}')"
   ]
  },
  {
   "cell_type": "code",
   "execution_count": null,
   "metadata": {},
   "outputs": [],
   "source": []
  }
 ],
 "metadata": {
  "interpreter": {
   "hash": "81794d4967e6c3204c66dcd87b604927b115b27c00565d3d43f05ba2f3a2cb0d"
  },
  "kernelspec": {
   "display_name": "Python 3.9.5 64-bit",
   "language": "python",
   "name": "python3"
  },
  "language_info": {
   "codemirror_mode": {
    "name": "ipython",
    "version": 3
   },
   "file_extension": ".py",
   "mimetype": "text/x-python",
   "name": "python",
   "nbconvert_exporter": "python",
   "pygments_lexer": "ipython3",
   "version": "3.9.5"
  },
  "orig_nbformat": 4
 },
 "nbformat": 4,
 "nbformat_minor": 2
}
