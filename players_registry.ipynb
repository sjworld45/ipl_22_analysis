{
 "cells": [
  {
   "cell_type": "code",
   "execution_count": 5,
   "metadata": {},
   "outputs": [],
   "source": [
    "import json\n",
    "import os\n",
    "json_files_path = r'E:\\SJ\\cricket\\analysis\\IPL\\json'\n"
   ]
  },
  {
   "cell_type": "code",
   "execution_count": 2,
   "metadata": {},
   "outputs": [],
   "source": [
    "with open('./overs_data.json') as file:\n",
    "    overs_dict = json.loads(file.read())"
   ]
  },
  {
   "cell_type": "code",
   "execution_count": 3,
   "metadata": {},
   "outputs": [],
   "source": [
    "def process_season(season):\n",
    "    if '/' in str(season):\n",
    "        t = {'2020/21': 2020, '2007/08': 2008, '2009/10': 2010}\n",
    "        return t[season]\n",
    "    else:\n",
    "        return int(season)\n"
   ]
  },
  {
   "cell_type": "code",
   "execution_count": 6,
   "metadata": {},
   "outputs": [],
   "source": [
    "registry = {}\n",
    "for season in range(2008, 2023):\n",
    "    overs_dict[season] = {}\n",
    "for file in os.listdir(json_files_path):\n",
    "    with open(json_files_path+'/'+file) as f:\n",
    "        match = json.loads(f.read())\n",
    "        season = process_season(match['info']['season'])\n",
    "        registry.setdefault(season, {})\n",
    "        for team, players in match['info']['players'].items():\n",
    "            for player in players:\n",
    "                registry[season][player] = team\n",
    "\n"
   ]
  },
  {
   "cell_type": "code",
   "execution_count": 9,
   "metadata": {},
   "outputs": [
    {
     "data": {
      "text/plain": [
       "('Deccan Chargers', 'Mumbai Indians')"
      ]
     },
     "execution_count": 9,
     "metadata": {},
     "output_type": "execute_result"
    }
   ],
   "source": [
    "registry[2008]['RG Sharma'],registry[2022]['RG Sharma']"
   ]
  },
  {
   "cell_type": "code",
   "execution_count": 11,
   "metadata": {},
   "outputs": [],
   "source": [
    "with open('./registry.json', 'w', newline='') as file:\n",
    "    file.write(json.dumps(registry))"
   ]
  },
  {
   "cell_type": "code",
   "execution_count": null,
   "metadata": {},
   "outputs": [],
   "source": []
  }
 ],
 "metadata": {
  "interpreter": {
   "hash": "81794d4967e6c3204c66dcd87b604927b115b27c00565d3d43f05ba2f3a2cb0d"
  },
  "kernelspec": {
   "display_name": "Python 3.9.5 64-bit",
   "language": "python",
   "name": "python3"
  },
  "language_info": {
   "codemirror_mode": {
    "name": "ipython",
    "version": 3
   },
   "file_extension": ".py",
   "mimetype": "text/x-python",
   "name": "python",
   "nbconvert_exporter": "python",
   "pygments_lexer": "ipython3",
   "version": "3.9.5"
  },
  "orig_nbformat": 4
 },
 "nbformat": 4,
 "nbformat_minor": 2
}
